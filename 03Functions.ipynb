{
 "cells": [
  {
   "cell_type": "markdown",
   "id": "ba7f8968-9a7f-442b-8907-378de9cc9de7",
   "metadata": {},
   "source": [
    "# Practice Projects"
   ]
  },
  {
   "cell_type": "markdown",
   "id": "8bf5a4d3-d2ef-4d65-90c0-da99f04dac0e",
   "metadata": {},
   "source": [
    "## Comma Code\n",
    "\n",
    "Write a function that takes a list as input and returns a string with all items separated by a comma and space, with a *and* inserted before the last item. Your function should be able to work with any list value passed to it.\n",
    "\n",
    "### Example\n",
    "| **INPUT** | **OUTPUT** |\n",
    "|-----------|------------|\n",
    "|`spam = ['apples', 'bananas', 'tofu', 'cats']` | `'apples, bananas, tofu, and cats'` |\n",
    "\n"
   ]
  },
  {
   "cell_type": "code",
   "execution_count": 2,
   "id": "a272786d-991d-4d16-9da7-cfd621fee28f",
   "metadata": {
    "execution": {
     "iopub.execute_input": "2022-02-13T10:58:49.512356Z",
     "iopub.status.busy": "2022-02-13T10:58:49.512186Z",
     "iopub.status.idle": "2022-02-13T10:58:49.514773Z",
     "shell.execute_reply": "2022-02-13T10:58:49.514404Z",
     "shell.execute_reply.started": "2022-02-13T10:58:49.512338Z"
    }
   },
   "outputs": [],
   "source": [
    "from __future__ import annotations\n",
    "# Allows us to add type hints for python version >= 3.9"
   ]
  },
  {
   "cell_type": "code",
   "execution_count": 4,
   "id": "d4043117-be01-4a99-a536-ea84175a2ad6",
   "metadata": {
    "execution": {
     "iopub.execute_input": "2022-02-13T10:59:26.643392Z",
     "iopub.status.busy": "2022-02-13T10:59:26.643100Z",
     "iopub.status.idle": "2022-02-13T10:59:26.649160Z",
     "shell.execute_reply": "2022-02-13T10:59:26.648743Z",
     "shell.execute_reply.started": "2022-02-13T10:59:26.643364Z"
    },
    "tags": []
   },
   "outputs": [
    {
     "data": {
      "text/plain": [
       "'apples, bananas, tofu, and cats'"
      ]
     },
     "execution_count": 4,
     "metadata": {},
     "output_type": "execute_result"
    }
   ],
   "source": [
    "# Attempt 1\n",
    "def and_string(items: List[Any]) -> str:\n",
    "    string: str = \"\"\n",
    "    for i,item in enumerate(items):\n",
    "        if i == (len(items) - 1):\n",
    "            string += \", and \"\n",
    "        elif i > 0:\n",
    "            string += \", \"\n",
    "        string += str(item)\n",
    "    return string\n",
    "\n",
    "and_string(['apples', 'bananas', 'tofu', 'cats'])"
   ]
  },
  {
   "cell_type": "code",
   "execution_count": 5,
   "id": "f5ff76fc-507e-44d1-8d32-29cf9aa12d9d",
   "metadata": {
    "execution": {
     "iopub.execute_input": "2022-02-13T11:00:14.217925Z",
     "iopub.status.busy": "2022-02-13T11:00:14.217435Z",
     "iopub.status.idle": "2022-02-13T11:00:14.221637Z",
     "shell.execute_reply": "2022-02-13T11:00:14.221047Z",
     "shell.execute_reply.started": "2022-02-13T11:00:14.217903Z"
    }
   },
   "outputs": [
    {
     "data": {
      "text/plain": [
       "\"['s', 'd'], d, and 23\""
      ]
     },
     "execution_count": 5,
     "metadata": {},
     "output_type": "execute_result"
    }
   ],
   "source": [
    "and_string([['s','d'],'d', 23])"
   ]
  },
  {
   "cell_type": "markdown",
   "id": "ff0db066-07be-4414-b6c1-60d33efa8ed1",
   "metadata": {},
   "source": [
    "## Character Picture Grid\n",
    "\n",
    "Say you have a list of lists where each value in the inner lists is a one-character string. The (0, 0) origin will be in the upper-left corner, the x-coordinates increase going right, and the y-coordinates increase going down.\n",
    "\n",
    "Copy the previous grid value, and write code that uses it to print the image.\n",
    "\n"
   ]
  }
 ],
 "metadata": {
  "kernelspec": {
   "display_name": "udemy-data-science",
   "language": "python",
   "name": "udemy-data-science"
  },
  "language_info": {
   "codemirror_mode": {
    "name": "ipython",
    "version": 3
   },
   "file_extension": ".py",
   "mimetype": "text/x-python",
   "name": "python",
   "nbconvert_exporter": "python",
   "pygments_lexer": "ipython3",
   "version": "3.9.6"
  }
 },
 "nbformat": 4,
 "nbformat_minor": 5
}
